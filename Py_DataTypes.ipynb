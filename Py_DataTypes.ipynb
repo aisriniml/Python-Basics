{
  "nbformat": 4,
  "nbformat_minor": 0,
  "metadata": {
    "colab": {
      "name": "Copy of Py_DataTypes.ipynb",
      "version": "0.3.2",
      "provenance": [],
      "include_colab_link": true
    },
    "kernelspec": {
      "name": "python3",
      "display_name": "Python 3"
    }
  },
  "cells": [
    {
      "cell_type": "markdown",
      "metadata": {
        "id": "view-in-github",
        "colab_type": "text"
      },
      "source": [
        "<a href=\"https://colab.research.google.com/github/aisriniml/Python-Basics/blob/Notebook-edits/Py_DataTypes.ipynb\" target=\"_parent\"><img src=\"https://colab.research.google.com/assets/colab-badge.svg\" alt=\"Open In Colab\"/></a>"
      ]
    },
    {
      "cell_type": "markdown",
      "metadata": {
        "id": "S9zuhanfYvOD",
        "colab_type": "text"
      },
      "source": [
        "# Datatype & Variables\n",
        "\n",
        "Variables are named locations which are used to store references to the object stored in memory. The names we choose for variables and functions are commonly known as Identifiers. In python Identifiers must obey the following rules.\n",
        "\n",
        "1. All identifiers must start with letter or underscore ( _ ) , you can’t use digits. For e.g my_var    is valid identifier while 1digit  is not.\n",
        "2. Identifiers can contain letters, digits and underscores ( _  ).\n",
        "They can be of any length.\n",
        "3. Identifier can’t be a keyword (keywords are reserved words that Python uses for special purpose).Following are Keywords in python 3\n",
        "\n",
        "**False  ,    class,      finally  ,  is,         return,\n",
        "None  ,     continue,   for ,       lambda  ,   try,\n",
        "True  ,     def ,       from    ,   nonlocal ,  while,\n",
        "and,        del,        global  ,   not  ,      with,\n",
        "as,         elif,       if       ,  or ,        yield,\n",
        "pass    ,   else     ,  import  ,   assert,\n",
        "break   ,   except  ,   in   ,      raise**"
      ]
    },
    {
      "cell_type": "markdown",
      "metadata": {
        "id": "-ne7dZzvawTJ",
        "colab_type": "text"
      },
      "source": [
        "# Assigning Values to Variables\n",
        "\n"
      ]
    },
    {
      "cell_type": "code",
      "metadata": {
        "id": "hsKilBoN0Bp4",
        "colab_type": "code",
        "outputId": "6735afea-1250-4fbe-a800-40b05afd4b1b",
        "colab": {
          "base_uri": "https://localhost:8080/",
          "height": 131
        }
      },
      "source": [
        "is=2"
      ],
      "execution_count": 0,
      "outputs": [
        {
          "output_type": "error",
          "ename": "SyntaxError",
          "evalue": "ignored",
          "traceback": [
            "\u001b[0;36m  File \u001b[0;32m\"<ipython-input-6-ca567f37f05d>\"\u001b[0;36m, line \u001b[0;32m1\u001b[0m\n\u001b[0;31m    is=2\u001b[0m\n\u001b[0m     ^\u001b[0m\n\u001b[0;31mSyntaxError\u001b[0m\u001b[0;31m:\u001b[0m invalid syntax\n"
          ]
        }
      ]
    },
    {
      "cell_type": "code",
      "metadata": {
        "id": "ujxL5E4Ya42z",
        "colab_type": "code",
        "colab": {}
      },
      "source": [
        "x = 100                       # x is integer\n",
        "pi = 3.14                     # pi is float\n",
        "empname = \"python is great\"   # empname is string\n",
        " \n",
        "a = b = c = 100 # this statement assign 100 to c, b and a.\n",
        "\n"
      ],
      "execution_count": 0,
      "outputs": []
    },
    {
      "cell_type": "code",
      "metadata": {
        "id": "YhVUQVjL9BP-",
        "colab_type": "code",
        "colab": {}
      },
      "source": [
        ""
      ],
      "execution_count": 0,
      "outputs": []
    },
    {
      "cell_type": "markdown",
      "metadata": {
        "id": "qEVYmlitbCuE",
        "colab_type": "text"
      },
      "source": [
        "# Simultaneous Assignments"
      ]
    },
    {
      "cell_type": "code",
      "metadata": {
        "id": "ABToHdrPbEuT",
        "colab_type": "code",
        "colab": {}
      },
      "source": [
        "var1, var2, varn = 1, 2, 3"
      ],
      "execution_count": 0,
      "outputs": []
    },
    {
      "cell_type": "code",
      "metadata": {
        "id": "tJ5mrPASbQVT",
        "colab_type": "code",
        "colab": {}
      },
      "source": [
        "x = 1\n",
        "y = 2\n",
        "y, x = x, y"
      ],
      "execution_count": 0,
      "outputs": []
    },
    {
      "cell_type": "markdown",
      "metadata": {
        "id": "Fr8hIXP1TiAv",
        "colab_type": "text"
      },
      "source": [
        ""
      ]
    },
    {
      "cell_type": "markdown",
      "metadata": {
        "id": "bm1QGxybbmDT",
        "colab_type": "text"
      },
      "source": [
        "# Python Data Types\n",
        "\n",
        "Python has 5 standard data types namely.\n",
        "\n",
        "1. **Numbers**\n",
        "2. **String**\n",
        "3.  **List**\n",
        "4. **Tuple**\n",
        "5. **Dictionary**\n",
        "6.  **Boolean** – In Python True and False  are boolean literals.  But the following values are also considered as false."
      ]
    },
    {
      "cell_type": "markdown",
      "metadata": {
        "id": "JRGsneFKb5vs",
        "colab_type": "text"
      },
      "source": [
        "# Receiving input from user\n",
        "\n"
      ]
    },
    {
      "cell_type": "code",
      "metadata": {
        "id": "c3l8WVhBcL_h",
        "colab_type": "code",
        "outputId": "9b4938fd-3d45-4076-c04a-7504c72ce740",
        "colab": {
          "base_uri": "https://localhost:8080/",
          "height": 52
        }
      },
      "source": [
        "name = input(\"Enter your name: \")\n",
        "name"
      ],
      "execution_count": 0,
      "outputs": [
        {
          "output_type": "stream",
          "text": [
            "Enter your name: 123\n"
          ],
          "name": "stdout"
        },
        {
          "output_type": "execute_result",
          "data": {
            "text/plain": [
              "'123'"
            ]
          },
          "metadata": {
            "tags": []
          },
          "execution_count": 7
        }
      ]
    },
    {
      "cell_type": "markdown",
      "metadata": {
        "id": "kxhTCW9XcYoA",
        "colab_type": "text"
      },
      "source": [
        "# Importing modules\n",
        "\n",
        "Python organizes codes using module. Python comes with many in built modules ready to use for e.g there is a math  module for mathematical related functions, re  module for regular expression and so on. But before you can use them you need to import them using the following syntax:\n",
        "\n",
        "import **module_name**\n",
        "\n",
        "You can also import multiple module using the following syntax:\n",
        "\n",
        "import **module_name_1, module_name_2**\n"
      ]
    },
    {
      "cell_type": "code",
      "metadata": {
        "id": "5Qi1iPv0dANE",
        "colab_type": "code",
        "outputId": "ae41db73-7fd0-4771-f458-c90ead11ac1a",
        "colab": {
          "base_uri": "https://localhost:8080/",
          "height": 35
        }
      },
      "source": [
        "import math\n",
        "math.pi\n"
      ],
      "execution_count": 0,
      "outputs": [
        {
          "output_type": "execute_result",
          "data": {
            "text/plain": [
              "3.141592653589793"
            ]
          },
          "metadata": {
            "tags": []
          },
          "execution_count": 1
        }
      ]
    },
    {
      "cell_type": "markdown",
      "metadata": {
        "id": "WeWVzmICdck9",
        "colab_type": "text"
      },
      "source": [
        "First line import all functions, classes, variables, constant in the math  module. To access anything inside math module we first need to write module name followed by ( . ) and then name of class, function, constant or variable. In the above example we are accessing a constant called pi  in math  module"
      ]
    },
    {
      "cell_type": "code",
      "metadata": {
        "id": "ktx5s8_edgjp",
        "colab_type": "code",
        "colab": {}
      },
      "source": [
        ""
      ],
      "execution_count": 0,
      "outputs": []
    }
  ]
}
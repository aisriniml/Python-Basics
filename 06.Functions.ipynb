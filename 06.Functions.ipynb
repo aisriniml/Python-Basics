{
  "nbformat": 4,
  "nbformat_minor": 0,
  "metadata": {
    "colab": {
      "name": "Untitled7.ipynb",
      "version": "0.3.2",
      "provenance": [],
      "collapsed_sections": [],
      "include_colab_link": true
    },
    "kernelspec": {
      "name": "python3",
      "display_name": "Python 3"
    }
  },
  "cells": [
    {
      "cell_type": "markdown",
      "metadata": {
        "id": "view-in-github",
        "colab_type": "text"
      },
      "source": [
        "<a href=\"https://colab.research.google.com/github/aisriniml/Python-Basics/blob/master/06.Functions.ipynb\" target=\"_parent\"><img src=\"https://colab.research.google.com/assets/colab-badge.svg\" alt=\"Open In Colab\"/></a>"
      ]
    },
    {
      "cell_type": "markdown",
      "metadata": {
        "id": "xKHSLLAsbCkS",
        "colab_type": "text"
      },
      "source": [
        "# **Functions**"
      ]
    },
    {
      "cell_type": "code",
      "metadata": {
        "id": "LzriM0fkXmw2",
        "colab_type": "code",
        "outputId": "e0dd165d-4893-4ed0-c94f-c77fcf5d987d",
        "colab": {
          "base_uri": "https://localhost:8080/",
          "height": 52
        }
      },
      "source": [
        "# add function\n",
        "def addfunction(a,b):\n",
        "  return a+b;\n",
        "\n",
        "def add2and4():\n",
        "  return addfunction(2,4);\n",
        "\n",
        "d=addfunction(3,4);\n",
        "\n",
        "print(addfunction(3,4))\n",
        "print(add2and4())"
      ],
      "execution_count": 0,
      "outputs": [
        {
          "output_type": "stream",
          "text": [
            "7\n",
            "6\n"
          ],
          "name": "stdout"
        }
      ]
    },
    {
      "cell_type": "code",
      "metadata": {
        "id": "8CA1tU25aPTm",
        "colab_type": "code",
        "outputId": "bd2c2430-e238-4eba-bf25-06422bbb4bb4",
        "colab": {
          "base_uri": "https://localhost:8080/",
          "height": 52
        }
      },
      "source": [
        "c=20\n",
        "print(type(c))\n",
        "print(id(c))"
      ],
      "execution_count": 0,
      "outputs": [
        {
          "output_type": "stream",
          "text": [
            "<class 'int'>\n",
            "10911008\n"
          ],
          "name": "stdout"
        }
      ]
    },
    {
      "cell_type": "markdown",
      "metadata": {
        "id": "G1gy79TYbXci",
        "colab_type": "text"
      },
      "source": [
        "1. Parameters or arguments\n",
        "2. Return"
      ]
    },
    {
      "cell_type": "markdown",
      "metadata": {
        "id": "W8p9__eRcK-O",
        "colab_type": "text"
      },
      "source": [
        "1. positional arguments \n",
        "2. keyword arguments \n",
        "3. default arguments \n",
        "4. Variable length arguments "
      ]
    },
    {
      "cell_type": "markdown",
      "metadata": {
        "id": "VM0T--P_cQG3",
        "colab_type": "text"
      },
      "source": [
        ""
      ]
    },
    {
      "cell_type": "code",
      "metadata": {
        "id": "GMmoOwbOceQ8",
        "colab_type": "code",
        "colab": {}
      },
      "source": [
        "addfunction(2,4)"
      ],
      "execution_count": 0,
      "outputs": []
    },
    {
      "cell_type": "code",
      "metadata": {
        "id": "4MsOUf5-c_N9",
        "colab_type": "code",
        "outputId": "f2828203-0ec9-41c4-8024-127032aad349",
        "colab": {
          "base_uri": "https://localhost:8080/",
          "height": 35
        }
      },
      "source": [
        "addfunction(b=4,a=5)"
      ],
      "execution_count": 0,
      "outputs": [
        {
          "output_type": "execute_result",
          "data": {
            "text/plain": [
              "9"
            ]
          },
          "metadata": {
            "tags": []
          },
          "execution_count": 7
        }
      ]
    },
    {
      "cell_type": "code",
      "metadata": {
        "id": "vBD7YhMadUH9",
        "colab_type": "code",
        "outputId": "7a0c8a02-5bbd-4847-f109-a82cbac70a61",
        "colab": {
          "base_uri": "https://localhost:8080/",
          "height": 35
        }
      },
      "source": [
        "def sub(b,a=10):\n",
        "  return a-b;\n",
        "\n",
        "sub(3)"
      ],
      "execution_count": 0,
      "outputs": [
        {
          "output_type": "execute_result",
          "data": {
            "text/plain": [
              "7"
            ]
          },
          "metadata": {
            "tags": []
          },
          "execution_count": 12
        }
      ]
    },
    {
      "cell_type": "code",
      "metadata": {
        "id": "HeD3QwXueTS_",
        "colab_type": "code",
        "outputId": "65cf817d-0f82-46e6-858d-a7c26d963485",
        "colab": {
          "base_uri": "https://localhost:8080/",
          "height": 35
        }
      },
      "source": [
        "def f1(*n): \n",
        "  return len(n);\n",
        "  \n",
        "print(f1(1,3,4,7))\n"
      ],
      "execution_count": 0,
      "outputs": [
        {
          "output_type": "stream",
          "text": [
            "4\n"
          ],
          "name": "stdout"
        }
      ]
    },
    {
      "cell_type": "code",
      "metadata": {
        "id": "XJHLFnLze1wh",
        "colab_type": "code",
        "outputId": "9caff8f7-283a-49f4-ef67-23d62a910a7c",
        "colab": {
          "base_uri": "https://localhost:8080/",
          "height": 69
        }
      },
      "source": [
        "def adding(*n):\n",
        "  total=0;\n",
        "  for n1 in n:\n",
        "    total=total+n1;\n",
        "  return total;\n",
        "\n",
        "\n",
        "print(adding(2,3))\n",
        "print(adding(2,3,4,5))\n",
        "\n",
        "print(adding(2,3,4,5,5,67,9))"
      ],
      "execution_count": 0,
      "outputs": [
        {
          "output_type": "stream",
          "text": [
            "5\n",
            "14\n",
            "95\n"
          ],
          "name": "stdout"
        }
      ]
    }
  ]
}